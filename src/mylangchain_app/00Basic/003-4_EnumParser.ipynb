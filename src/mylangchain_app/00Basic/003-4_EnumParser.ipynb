{
 "cells": [
  {
   "cell_type": "markdown",
   "metadata": {},
   "source": [
    "# LangChain EnumOutputParser 예제: 감정 분석\n",
    "`ChatOpenAI`와 `EnumOutputParser`를 사용해 텍스트의 감정을 **긍정/부정/중립**으로 분류합니다.\n",
    "\n",
    "### 오류 해결 포인트\n",
    "- 더 강력하고 명확한 프롬프트 작성\n",
    "- OutputFixingParser 추가로 안정성 향상\n",
    "- 에러 처리 로직 포함"
   ]
  },
  {
   "cell_type": "code",
   "execution_count": 1,
   "metadata": {},
   "outputs": [],
   "source": [
    "from langchain_openai import ChatOpenAI\n",
    "from langchain_core.prompts import ChatPromptTemplate\n",
    "from langchain.output_parsers import EnumOutputParser, OutputFixingParser\n",
    "from langchain.schema import OutputParserException\n",
    "\n",
    "from enum import Enum\n",
    "from pprint import pprint\n"
   ]
  },
  {
   "cell_type": "code",
   "execution_count": 2,
   "metadata": {},
   "outputs": [
    {
     "name": "stdout",
     "output_type": "stream",
     "text": [
      "gsk_f\n"
     ]
    }
   ],
   "source": [
    "from dotenv import load_dotenv\n",
    "import os\n",
    "# .env 파일을 불러와서 환경 변수로 설정\n",
    "load_dotenv()\n",
    "\n",
    "OPENAI_API_KEY = os.getenv(\"OPENAI_API_KEY\")\n",
    "print(OPENAI_API_KEY[:5])"
   ]
  },
  {
   "cell_type": "code",
   "execution_count": 3,
   "metadata": {},
   "outputs": [],
   "source": [
    "# 감정 클래스 정의 (Enum)\n",
    "class Sentiment(str, Enum):\n",
    "    POSITIVE = \"긍정\"\n",
    "    NEGATIVE = \"부정\"\n",
    "    NEUTRAL = \"중립\""
   ]
  },
  {
   "cell_type": "code",
   "execution_count": 4,
   "metadata": {},
   "outputs": [
    {
     "name": "stdout",
     "output_type": "stream",
     "text": [
      "감정 분류 출력 형식:\n",
      "Select one of the following options: 긍정, 부정, 중립\n"
     ]
    }
   ],
   "source": [
    "# EnumOutputParser 초기화\n",
    "parser = EnumOutputParser(enum=Sentiment)\n",
    "format_instructions = parser.get_format_instructions()\n",
    "\n",
    "print(\"감정 분류 출력 형식:\")\n",
    "print(format_instructions)"
   ]
  },
  {
   "cell_type": "code",
   "execution_count": 5,
   "metadata": {},
   "outputs": [
    {
     "name": "stdout",
     "output_type": "stream",
     "text": [
      "input_variables=['text'] input_types={} partial_variables={'format_instructions': 'Select one of the following options: 긍정, 부정, 중립'} messages=[HumanMessagePromptTemplate(prompt=PromptTemplate(input_variables=['format_instructions', 'text'], input_types={}, partial_variables={}, template='\\n당신은 텍스트 감정 분석 전문가입니다.\\n다음 텍스트의 감정을 분석하고, 반드시 아래 세 가지 중 하나의 단어로만 답변하세요.\\n\\n텍스트: \"{text}\"\\n\\n{format_instructions}\\n\\n중요 규칙:\\n1. 반드시 \"긍정\", \"부정\", \"중립\" 중 하나의 단어만 출력하세요.\\n2. 다른 설명이나 부가 설명을 추가하지 마세요.\\n3. 이모지나 특수문자도 포함하지 마세요.\\n4. 오직 하나의 단어만 출력하세요.\\n\\n답변:'), additional_kwargs={})]\n"
     ]
    }
   ],
   "source": [
    "# 프롬프트 템플릿\n",
    "template = \"\"\"\n",
    "당신은 텍스트 감정 분석 전문가입니다.\n",
    "다음 텍스트의 감정을 분석하고, 반드시 아래 세 가지 중 하나의 단어로만 답변하세요.\n",
    "\n",
    "텍스트: \"{text}\"\n",
    "\n",
    "{format_instructions}\n",
    "\n",
    "중요 규칙:\n",
    "1. 반드시 \"긍정\", \"부정\", \"중립\" 중 하나의 단어만 출력하세요.\n",
    "2. 다른 설명이나 부가 설명을 추가하지 마세요.\n",
    "3. 이모지나 특수문자도 포함하지 마세요.\n",
    "4. 오직 하나의 단어만 출력하세요.\n",
    "\n",
    "답변:\"\"\"\n",
    "\n",
    "prompt = ChatPromptTemplate.from_template(template)\n",
    "prompt = prompt.partial(format_instructions=format_instructions)\n",
    "print(prompt)"
   ]
  },
  {
   "cell_type": "code",
   "execution_count": 6,
   "metadata": {},
   "outputs": [
    {
     "name": "stdout",
     "output_type": "stream",
     "text": [
      "parser=EnumOutputParser(enum=<enum 'Sentiment'>) retry_chain=PromptTemplate(input_variables=['completion', 'error', 'instructions'], input_types={}, partial_variables={}, template='Instructions:\\n--------------\\n{instructions}\\n--------------\\nCompletion:\\n--------------\\n{completion}\\n--------------\\n\\nAbove, the Completion did not satisfy the constraints given in the Instructions.\\nError:\\n--------------\\n{error}\\n--------------\\n\\nPlease try again. Please only respond with an answer that satisfies the constraints laid out in the Instructions:')\n",
      "| ChatOpenAI(client=<openai.resources.chat.completions.completions.Completions object at 0x000001EE73BCEA20>, async_client=<openai.resources.chat.completions.completions.AsyncCompletions object at 0x000001EE7383E270>, root_client=<openai.OpenAI object at 0x000001EE720653A0>, root_async_client=<openai.AsyncOpenAI object at 0x000001EE7383E180>, model_name='moonshotai/kimi-k2-instruct-0905', temperature=0.0, model_kwargs={}, openai_api_key=SecretStr('**********'), openai_api_base='https://api.groq.com/openai/v1')\n",
      "| StrOutputParser()\n",
      "모델 및 파서 설정 완료\n"
     ]
    }
   ],
   "source": [
    "# ChatOpenAI 모델 초기화\n",
    "# 환경변수에서 OpenAI API 키 설정 (실제 사용시 주석 해제)\n",
    "# os.environ[\"OPENAI_API_KEY\"] = \"your-api-key\"\n",
    "\n",
    "# model = ChatOpenAI(\n",
    "#     model=\"gpt-3.5-turbo\",\n",
    "#     temperature=0  # 일관성을 위해 0으로 설정\n",
    "# )\n",
    "model = ChatOpenAI(\n",
    "    #api_key=OPENAI_API_KEY,\n",
    "    base_url=\"https://api.groq.com/openai/v1\",  # Groq API 엔드포인트\n",
    "    #model=\"meta-llama/llama-4-scout-17b-16e-instruct\",\n",
    "    model=\"moonshotai/kimi-k2-instruct-0905\",\n",
    "    temperature=0  # 일관성을 위해 0으로 설정\n",
    ")\n",
    "\n",
    "# OutputFixingParser로 안정성 향상\n",
    "fixing_parser = OutputFixingParser.from_llm(parser=parser, llm=model)\n",
    "print(fixing_parser)\n",
    "\n",
    "print(\"모델 및 파서 설정 완료\")"
   ]
  },
  {
   "cell_type": "code",
   "execution_count": 10,
   "metadata": {},
   "outputs": [
    {
     "name": "stdout",
     "output_type": "stream",
     "text": [
      "테스트할 텍스트 7개 준비 완료\n"
     ]
    }
   ],
   "source": [
    "# 테스트 텍스트\n",
    "texts = [\n",
    "    \"이 제품 정말 좋아요! 완전 만족스러워요.\",\n",
    "    \"서비스가 너무 느리고 불친절했습니다.\",\n",
    "    \"이 제품 그런대로 괜찮습니다.\",\n",
    "    \"배송은 빠르지만 품질이 아쉽습니다.\",\n",
    "    \"최고의 경험이었습니다!\",\n",
    "    \"완전 실망했어요... 최악이에요\",\n",
    "    \"오늘 오전에는 비가 내렸습니다.\"\n",
    "]\n",
    "\n",
    "print(f\"테스트할 텍스트 {len(texts)}개 준비 완료\")"
   ]
  },
  {
   "cell_type": "code",
   "execution_count": 8,
   "metadata": {},
   "outputs": [
    {
     "name": "stdout",
     "output_type": "stream",
     "text": [
      "=== 수동 테스트 (시뮬레이션) ===\n",
      " '긍정' → 긍정 (성공)\n",
      " '부정' → 부정 (성공)\n",
      " '중립' → 중립 (성공)\n",
      "\n",
      "잘못된 형식 테스트:\n",
      " '분석 결과: 긍정' → 파싱 실패 (예상됨)\n",
      " '이 텍스트는 긍정적입니다' → 파싱 실패 (예상됨)\n",
      " 'positive' → 파싱 실패 (예상됨)\n"
     ]
    }
   ],
   "source": [
    "# 수동 테스트 (API 키 없이도 작동)\n",
    "def manual_test():\n",
    "    \"\"\"수동 테스트 - API 키 없이도 확인 가능\"\"\"\n",
    "    print(\"=== 수동 테스트 (시뮬레이션) ===\")\n",
    "    \n",
    "    # 올바른 형식의 응답들\n",
    "    test_responses = [\"긍정\", \"부정\", \"중립\"]\n",
    "    \n",
    "    for response in test_responses:\n",
    "        try:\n",
    "            parsed = parser.parse(response)\n",
    "            print(f\" '{response}' → {parsed.value} (성공)\")\n",
    "        except Exception as e:\n",
    "            print(f\" '{response}' → 실패: {e}\")\n",
    "    \n",
    "    # 잘못된 형식의 응답들\n",
    "    wrong_responses = [\n",
    "        \"분석 결과: 긍정\",\n",
    "        \"이 텍스트는 긍정적입니다\",\n",
    "        \"positive\"\n",
    "    ]\n",
    "    \n",
    "    print(\"\\n잘못된 형식 테스트:\")\n",
    "    for response in wrong_responses:\n",
    "        try:\n",
    "            parsed = parser.parse(response)\n",
    "            print(f\" '{response}' → {parsed.value} (예상외 성공)\")\n",
    "        except Exception as e:\n",
    "            print(f\" '{response}' → 파싱 실패 (예상됨)\")\n",
    "\n",
    "# 수동 테스트 실행\n",
    "manual_test()"
   ]
  },
  {
   "cell_type": "code",
   "execution_count": 11,
   "metadata": {},
   "outputs": [
    {
     "name": "stdout",
     "output_type": "stream",
     "text": [
      "=== 실제 감정 분석 결과 ===\n",
      "\n",
      "1. 텍스트: 이 제품 정말 좋아요! 완전 만족스러워요.\n",
      "   감정: 긍정 \n",
      "\n",
      "2. 텍스트: 서비스가 너무 느리고 불친절했습니다.\n",
      "   감정: 부정 \n",
      "\n",
      "3. 텍스트: 이 제품 그런대로 괜찮습니다.\n",
      "   감정: 중립 \n",
      "\n",
      "4. 텍스트: 배송은 빠르지만 품질이 아쉽습니다.\n",
      "   감정: 부정 \n",
      "\n",
      "5. 텍스트: 최고의 경험이었습니다!\n",
      "   감정: 긍정 \n",
      "\n",
      "6. 텍스트: 완전 실망했어요... 최악이에요\n",
      "   감정: 부정 \n",
      "\n",
      "7. 텍스트: 오늘 오전에는 비가 내렸습니다.\n",
      "   감정: 중립 \n",
      "\n",
      "=== 결과 요약 ===\n",
      "성공: 7/7 (100.0%)\n",
      "실패: 0/7\n"
     ]
    }
   ],
   "source": [
    "# 안전한 감정 분석 함수 (에러 처리 포함)\n",
    "def safe_sentiment_analysis(text, use_fixing_parser=True):\n",
    "    \"\"\"안전한 감정 분석 함수 - 에러 처리 포함\"\"\"\n",
    "    try:\n",
    "        # 기본 체인 생성\n",
    "        # use_fixing_parser가 True이면 OutputFixingParser가 적용되고, False이면 EnumOutputParser가 적용됨\n",
    "        chain = prompt | model | (fixing_parser if use_fixing_parser else parser)\n",
    "        \n",
    "        # 분석 실행\n",
    "        result = chain.invoke({\"text\": text})\n",
    "        return result, None\n",
    "        \n",
    "    except OutputParserException as e:\n",
    "        return None, f\"파싱 오류: {str(e)[:100]}...\"\n",
    "    except Exception as e:\n",
    "        return None, f\"일반 오류: {str(e)[:100]}...\"\n",
    "\n",
    "# 실제 감정 분석 실행 (API 키 필요)\n",
    "def run_sentiment_analysis():\n",
    "    \"\"\"실제 감정 분석 실행\"\"\"\n",
    "    print(\"=== 실제 감정 분석 결과 ===\")\n",
    "    \n",
    "    success_count = 0\n",
    "    total_count = len(texts)\n",
    "    \n",
    "    for i, text in enumerate(texts, 1):\n",
    "        print(f\"\\n{i}. 텍스트: {text}\")\n",
    "        \n",
    "        # OutputFixingParser 사용\n",
    "        result, error = safe_sentiment_analysis(text, use_fixing_parser=True)\n",
    "        \n",
    "        if result:\n",
    "            print(f\"   감정: {result.value} \")\n",
    "            success_count += 1\n",
    "        else:\n",
    "            print(f\"   오류: {error} \")\n",
    "            \n",
    "            # 기본 파서로 재시도\n",
    "            print(\"   기본 파서로 재시도...\")\n",
    "            result2, error2 = safe_sentiment_analysis(text, use_fixing_parser=False)\n",
    "            \n",
    "            if result2:\n",
    "                print(f\"   감정: {result2.value} (기본 파서 성공)\")\n",
    "                success_count += 1\n",
    "            else:\n",
    "                print(f\"   재시도 실패: {error2} \")\n",
    "    \n",
    "    print(f\"\\n=== 결과 요약 ===\")\n",
    "    print(f\"성공: {success_count}/{total_count} ({success_count/total_count*100:.1f}%)\")\n",
    "    print(f\"실패: {total_count-success_count}/{total_count}\")\n",
    "\n",
    "# 실제 분석 실행 (API 키가 있는 경우)\n",
    "try:\n",
    "    run_sentiment_analysis()\n",
    "except Exception as e:\n",
    "    print(\"API 키가 설정되지 않았거나 네트워크 오류:\")\n",
    "    print(\"실제 실행을 위해서는 OpenAI API 키를 설정하세요.\")\n",
    "    print(f\"오류 상세: {e}\")"
   ]
  },
  {
   "cell_type": "code",
   "execution_count": 10,
   "metadata": {},
   "outputs": [
    {
     "name": "stdout",
     "output_type": "stream",
     "text": [
      "\n",
      "=== 배치 처리 시뮬레이션 ===\n",
      "\n",
      "=== 감정 분석 통계 ===\n",
      "긍정: 2개 (33.3%)\n",
      "부정: 2개 (33.3%)\n",
      "중립: 1개 (16.7%)\n",
      "오류: 1개 (16.7%)\n",
      "\n",
      "=== 상세 결과 ===\n",
      "1. 이 제품 정말 좋아요! 완전 만족스러워요.... → 긍정\n",
      "2. 서비스가 너무 느리고 불친절했습니다.... → 부정\n",
      "3. 이 제품 그런대로 괜찮습니다.... → 중립\n",
      "4. 배송은 빠르지만 품질이 아쉽습니다.... → 부정\n",
      "5. 최고의 경험이었습니다!... → 긍정\n",
      "6. 완전 실망했어요... 최악이에요... →  오류\n"
     ]
    }
   ],
   "source": [
    "# 추가 기능: 배치 처리 및 통계\n",
    "def batch_sentiment_analysis(text_list):\n",
    "    \"\"\"여러 텍스트를 한 번에 처리하고 통계 제공\"\"\"\n",
    "    results = {\n",
    "        '긍정': 0,\n",
    "        '부정': 0,\n",
    "        '중립': 0,\n",
    "        '오류': 0\n",
    "    }\n",
    "    \n",
    "    detailed_results = []\n",
    "    \n",
    "    for text in text_list:\n",
    "        result, error = safe_sentiment_analysis(text)\n",
    "        \n",
    "        if result:\n",
    "            sentiment = result.value\n",
    "            results[sentiment] += 1\n",
    "            detailed_results.append((text, sentiment, None))\n",
    "        else:\n",
    "            results['오류'] += 1\n",
    "            detailed_results.append((text, None, error))\n",
    "    \n",
    "    return results, detailed_results\n",
    "\n",
    "# 통계 출력 함수\n",
    "def print_statistics(results, detailed_results):\n",
    "    \"\"\"결과 통계 출력\"\"\"\n",
    "    print(\"\\n=== 감정 분석 통계 ===\")\n",
    "    total = sum(results.values())\n",
    "    \n",
    "    for sentiment, count in results.items():\n",
    "        percentage = (count / total * 100) if total > 0 else 0\n",
    "        print(f\"{sentiment}: {count}개 ({percentage:.1f}%)\")\n",
    "    \n",
    "    print(\"\\n=== 상세 결과 ===\")\n",
    "    for i, (text, sentiment, error) in enumerate(detailed_results, 1):\n",
    "        status = sentiment if sentiment else \" 오류\"\n",
    "        print(f\"{i}. {text[:30]}... → {status}\")\n",
    "\n",
    "# 배치 처리 시뮬레이션\n",
    "print(\"\\n=== 배치 처리 시뮬레이션 ===\")\n",
    "simulated_results = {\n",
    "    '긍정': 2,\n",
    "    '부정': 2, \n",
    "    '중립': 1,\n",
    "    '오류': 1\n",
    "}\n",
    "\n",
    "simulated_detailed = [\n",
    "    (texts[0], '긍정', None),\n",
    "    (texts[1], '부정', None),\n",
    "    (texts[2], '중립', None),\n",
    "    (texts[3], '부정', None),\n",
    "    (texts[4], '긍정', None),\n",
    "    (texts[5], None, \"파싱 오류\")\n",
    "]\n",
    "\n",
    "print_statistics(simulated_results, simulated_detailed)"
   ]
  },
  {
   "cell_type": "markdown",
   "metadata": {},
   "source": [
    "## 주요 수정사항\n",
    "\n",
    "### 1. **프롬프트 개선**\n",
    "```python\n",
    "# 기존 (문제)\n",
    "\"다음 텍스트의 감정을 분석해주세요.\"\n",
    "\n",
    "# 수정 (해결)\n",
    "\"반드시 '긍정', '부정', '중립' 중 하나의 단어만 출력하세요\"\n",
    "```\n",
    "\n",
    "### 2. **OutputFixingParser 추가**\n",
    "- 기본 파서가 실패하면 자동으로 응답을 수정하여 재시도\n",
    "- 안정성 크게 향상\n",
    "\n",
    "### 3. **에러 처리 강화**\n",
    "- `safe_sentiment_analysis()` 함수로 안전한 처리\n",
    "- 실패 시 대안 방법 제공\n",
    "\n",
    "### 4. **Temperature 조정**\n",
    "- `temperature=0`으로 설정하여 일관된 응답 유도\n",
    "\n",
    "##  사용 팁\n",
    "\n",
    "1. **API 키 설정**: 실제 실행을 위해서는 OpenAI API 키 필요\n",
    "2. **모델 선택**: `gpt-3.5-turbo`로도 충분한 성능\n",
    "3. **프롬프트 최적화**: 더 명확하고 강력한 지시사항 포함\n",
    "4. **안전 장치**: OutputFixingParser로 안정성 확보"
   ]
  }
 ],
 "metadata": {
  "kernelspec": {
   "display_name": "mylangchain-app-SBe-Yh6W-py3.12",
   "language": "python",
   "name": "python3"
  },
  "language_info": {
   "codemirror_mode": {
    "name": "ipython",
    "version": 3
   },
   "file_extension": ".py",
   "mimetype": "text/x-python",
   "name": "python",
   "nbconvert_exporter": "python",
   "pygments_lexer": "ipython3",
   "version": "3.12.7"
  }
 },
 "nbformat": 4,
 "nbformat_minor": 2
}
