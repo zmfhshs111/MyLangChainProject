{
 "cells": [
  {
   "cell_type": "code",
   "execution_count": null,
   "metadata": {},
   "outputs": [],
   "source": [
    "#poetry add gradio"
   ]
  },
  {
   "cell_type": "markdown",
   "metadata": {},
   "source": [
    "#### Basic concepts and terminology"
   ]
  },
  {
   "cell_type": "code",
   "execution_count": null,
   "metadata": {},
   "outputs": [],
   "source": [
    "import gradio as gr\n",
    "print(gr.__version__)"
   ]
  },
  {
   "cell_type": "markdown",
   "metadata": {},
   "source": [
    "##### 1. “Hello World” example:"
   ]
  },
  {
   "cell_type": "code",
   "execution_count": null,
   "metadata": {},
   "outputs": [],
   "source": [
    "def greet(name):\n",
    "   return f\"Hello, {name}!\"\n",
    "\n",
    "def main1():\n",
    "    demo = gr.Interface(\n",
    "        fn=greet,\n",
    "        inputs=['text'],\n",
    "        outputs=\"text\",\n",
    "    )\n",
    "    demo.launch()    "
   ]
  },
  {
   "cell_type": "markdown",
   "metadata": {},
   "source": [
    "##### 2. Input and output components\n",
    "* 파라미터 값이 label이 됩니다. (각 컴포넌트의 좌측 상단)\n",
    "* 여러개의 output을 내보내고 싶다면 ,로 구분해서 return 합니다.\n",
    "* 어떤 방식으로 랜더링 할지는 outputs에 정해주면 됩니다.\n"
   ]
  },
  {
   "cell_type": "code",
   "execution_count": null,
   "metadata": {},
   "outputs": [],
   "source": [
    "def process_inputs(text, image, audio, number, option):\n",
    "   # Process inputs and return results\n",
    "   return f\"Processed: {text}, {number}, {option}\"\n",
    "\n",
    "def main2():\n",
    "    demo = gr.Interface(\n",
    "    fn=process_inputs,\n",
    "    inputs=[\n",
    "        gr.Textbox(label=\"Enter Text\"),\n",
    "        gr.Image(label=\"Upload Image\"),\n",
    "        gr.Audio(label=\"Upload Audio\"),  # Uncomment this line to add audio input\n",
    "        gr.Slider(0, 100, label=\"Choose a number\"),\n",
    "        gr.Dropdown([\"Streamlit\", \"Taipy\", \"Gradio\"], label=\"Select a UI library\"),\n",
    "    ],\n",
    "    outputs=\"text\",\n",
    "    )\n",
    "    demo.launch()"
   ]
  },
  {
   "cell_type": "markdown",
   "metadata": {},
   "source": [
    "##### 3. Row 와 Column"
   ]
  },
  {
   "cell_type": "code",
   "execution_count": null,
   "metadata": {},
   "outputs": [],
   "source": [
    "import gradio as gr\n",
    "\n",
    "def main3():\n",
    "    with gr.Blocks() as demo:\n",
    "        with gr.Row():\n",
    "            text1 = gr.Textbox(label=\"t1\")\n",
    "            slider2 = gr.Textbox(label=\"s2\")\n",
    "            drop3 = gr.Dropdown([\"a\", \"b\", \"c\"], label=\"d3\")\n",
    "        with gr.Row():\n",
    "            with gr.Column(scale=1, min_width=300):\n",
    "                text1 = gr.Textbox(label=\"prompt 1\")\n",
    "                text2 = gr.Textbox(label=\"prompt 2\")\n",
    "                inbtw = gr.Button(\"Between\")\n",
    "                text4 = gr.Textbox(label=\"prompt 1\")\n",
    "                text5 = gr.Textbox(label=\"prompt 2\")\n",
    "            with gr.Column(scale=2, min_width=300):\n",
    "                img1 = gr.Image(value=\"https://gradio-rows-and-columns.hf.space/gradio_api/file=/tmp/gradio/ebc973f2524706aef925e5ab256573154e0120573be1f0bae8b94b255fdddeec/cheetah.jpg\")\n",
    "                btn = gr.Button(\"Go\")\n",
    "\n",
    "    demo.launch()"
   ]
  },
  {
   "cell_type": "markdown",
   "metadata": {},
   "source": [
    "##### 4. Tabs 와 Accordions"
   ]
  },
  {
   "cell_type": "code",
   "execution_count": null,
   "metadata": {},
   "outputs": [],
   "source": [
    "import numpy as np\n",
    "import gradio as gr\n",
    "\n",
    "def flip_text(x):\n",
    "    return x[::-1]\n",
    "\n",
    "def flip_image(x):\n",
    "    return np.fliplr(x)\n",
    "\n",
    "def main():\n",
    "    with gr.Blocks() as demo:\n",
    "        gr.Markdown(\"Flip text or image files using this demo.\")\n",
    "        with gr.Tab(\"Flip Text\"):\n",
    "            text_input = gr.Textbox()\n",
    "            text_output = gr.Textbox()\n",
    "            text_button = gr.Button(\"Flip\")\n",
    "        with gr.Tab(\"Flip Image\"):\n",
    "            with gr.Row():\n",
    "                image_input = gr.Image()\n",
    "                image_output = gr.Image()\n",
    "            image_button = gr.Button(\"Flip\")\n",
    "\n",
    "        with gr.Accordion(\"Open for More!\", open=False):\n",
    "            gr.Markdown(\"Look at me...\")\n",
    "            temp_slider = gr.Slider(\n",
    "                0, 1,\n",
    "                value=0.1,\n",
    "                step=0.1,\n",
    "                interactive=True,\n",
    "                label=\"Slide me\",\n",
    "            )\n",
    "\n",
    "        text_button.click(flip_text, inputs=text_input, outputs=text_output)\n",
    "        image_button.click(flip_image, inputs=image_input, outputs=image_output)\n",
    "\n",
    "    demo.launch()"
   ]
  },
  {
   "cell_type": "code",
   "execution_count": null,
   "metadata": {},
   "outputs": [],
   "source": [
    "if __name__ == '__main__':\n",
    "    main()"
   ]
  }
 ],
 "metadata": {
  "kernelspec": {
   "display_name": "base",
   "language": "python",
   "name": "python3"
  },
  "language_info": {
   "codemirror_mode": {
    "name": "ipython",
    "version": 3
   },
   "file_extension": ".py",
   "mimetype": "text/x-python",
   "name": "python",
   "nbconvert_exporter": "python",
   "pygments_lexer": "ipython3",
   "version": "3.12.4"
  }
 },
 "nbformat": 4,
 "nbformat_minor": 2
}
