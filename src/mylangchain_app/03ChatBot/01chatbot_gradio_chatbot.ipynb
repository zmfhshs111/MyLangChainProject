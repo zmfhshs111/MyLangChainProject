{
 "cells": [
  {
   "cell_type": "code",
   "execution_count": null,
   "metadata": {
    "colab": {
     "base_uri": "https://localhost:8080/"
    },
    "executionInfo": {
     "elapsed": 18948,
     "status": "ok",
     "timestamp": 1738982891750,
     "user": {
      "displayName": "Myung Sook Baek",
      "userId": "06392624545902733911"
     },
     "user_tz": -540
    },
    "id": "_tSX_lpQdCv9",
    "outputId": "cf499e98-2ce2-450c-bfe4-efb37afa25c6"
   },
   "outputs": [],
   "source": [
    "# 그라디오 라이브러리를 설치합니다.\n",
    "#poetry add gradio"
   ]
  },
  {
   "cell_type": "markdown",
   "metadata": {
    "id": "HQJPwo-yvEY6"
   },
   "source": [
    "* 그라디오 라이브러리를 사용하여 사용자의 이름을 입력받아 \"안녕!\"이라는 인사말을 붙여 반환하는 간단한 인터페이스를 만듭니다. \n",
    "* 여기서는 gr.Interface를 사용하여 인풋으로 텍스트를 받고, 아웃풋으로 텍스트를 반환하는 함수를 정의하고 실행하는 과정을 볼 수 있습니다."
   ]
  },
  {
   "cell_type": "code",
   "execution_count": null,
   "metadata": {
    "colab": {
     "base_uri": "https://localhost:8080/",
     "height": 631
    },
    "executionInfo": {
     "elapsed": 11097,
     "status": "ok",
     "timestamp": 1738987235646,
     "user": {
      "displayName": "Myung Sook Baek",
      "userId": "06392624545902733911"
     },
     "user_tz": -540
    },
    "id": "7KobaA9QtySz",
    "outputId": "4128c5d0-a35b-4174-fea2-a43342427453"
   },
   "outputs": [],
   "source": [
    "# 그라디오 라이브러리를 불러옵니다.\n",
    "import gradio as gr  \n",
    "\n",
    "# 인사말 함수를 정의합니다. 이 함수는 이름을 매개변수로 받아 \"안녕! \" 이라는 문자열을 붙여 반환합니다.\n",
    "def greet(name):  \n",
    "    return \"안녕! \" + name\n",
    "\n",
    "demo = gr.Interface(\n",
    "    fn=greet,  # 인터페이스를 실행할 때 호출할 함수를 지정합니다. 이 함수의 인자로 inputs로 정의된 내용이 입력되고, 함수의 출력이 outputs에 표시됩니다.\n",
    "    inputs=\"text\",  # 텍스트 입력 창을 설정합니다.\n",
    "    outputs=\"text\"  # 텍스트 출력 창을 설정합니다.\n",
    ")\n",
    "\n",
    "# 그라디오 인터페이스를 실행합니다. 실행하면 사용자는 텍스트 입력창에 이름을 입력할 수 있고, 그 결과 \"안녕! \" + 입력한 이름 이라는 출력을 볼 수 있습니다.\n",
    "demo.launch()  "
   ]
  },
  {
   "cell_type": "markdown",
   "metadata": {
    "id": "RtryRf9suxE0"
   },
   "source": [
    "* 이 코드는 이전의 예제와 동일하게 작동하나 차이점은, \n",
    "* gr.Textbox를 사용하여 사용자 입력 창에 추가 정보를 제공한다는 점입니다. \n",
    "    * 이를 통해 사용자는 어떤 정보를 입력해야하는지 더 잘 이해할 수 있습니다."
   ]
  },
  {
   "cell_type": "code",
   "execution_count": null,
   "metadata": {
    "colab": {
     "base_uri": "https://localhost:8080/",
     "height": 631
    },
    "executionInfo": {
     "elapsed": 1199,
     "status": "ok",
     "timestamp": 1738987393163,
     "user": {
      "displayName": "Myung Sook Baek",
      "userId": "06392624545902733911"
     },
     "user_tz": -540
    },
    "id": "qzVk8w3xuXWI",
    "outputId": "0815cf85-907a-4bb8-a3ad-2e7cdfcddf25"
   },
   "outputs": [],
   "source": [
    "import gradio as gr  # 그라디오 라이브러리를 불러옵니다.\n",
    "\n",
    "def greet(name):  # 인사말 함수를 정의합니다. 이 함수는 이름을 매개변수로 받아 \"안녕! \" 이라는 문자열을 붙여 반환합니다.\n",
    "    return \"안녕! \" + name\n",
    "\n",
    "demo = gr.Interface(\n",
    "    fn = greet,  # 인터페이스를 실행할 때 호출할 함수를 지정합니다. 이 함수의 인자로 inputs로 정의된 내용이 입력되고, 함수의 출력이 outputs에 표시됩니다.\n",
    "    inputs = gr.Textbox(lines=2, placeholder=\"이름을 작성하세요.\"),  # 사용자가 입력을 제공할 텍스트박스를 정의하고, 플레이스홀더를 사용하여 입력창에 힌트를 제공합니다.\n",
    "    outputs=\"text\"  # 텍스트 출력 창을 설정합니다.\n",
    ")\n",
    "\n",
    "demo.launch()  # 그라디오 인터페이스를 실행합니다. 실행하면 사용자는 텍스트 입력창에 이름을 입력할 수 있고, 그 결과 \"안녕! \" + 입력한 이름 이라는 출력을 볼 수 있습니다."
   ]
  },
  {
   "cell_type": "markdown",
   "metadata": {
    "id": "Xx-LdKv1vRpR"
   },
   "source": [
    "* 이전 코드와 비슷한 코드이지만, 이번에는 gr.Blocks()를 사용하여 더 복잡한 인터페이스를 만듭니다. \n",
    "* 여기에서는 버튼을 추가하고 버튼이 클릭될 때 함수가 호출되도록 설정합니다. \n",
    "    * 이렇게 하면 사용자가 버튼을 클릭할 때마다 greet 함수가 호출되어 이름에 \"안녕!\"을 붙여 반환합니다."
   ]
  },
  {
   "cell_type": "code",
   "execution_count": null,
   "metadata": {
    "colab": {
     "base_uri": "https://localhost:8080/",
     "height": 631
    },
    "executionInfo": {
     "elapsed": 2507,
     "status": "ok",
     "timestamp": 1738987631718,
     "user": {
      "displayName": "Myung Sook Baek",
      "userId": "06392624545902733911"
     },
     "user_tz": -540
    },
    "id": "vVyNahbztzzT",
    "outputId": "4f6f4a2c-9242-4f28-929d-f7407d4cba66"
   },
   "outputs": [],
   "source": [
    "import gradio as gr  # 그라디오 라이브러리를 불러옵니다.\n",
    "\n",
    "def greet(name):  # 인사말 함수를 정의합니다. 이 함수는 이름을 매개변수로 받아 \"안녕! \" 이라는 문자열을 붙여 반환합니다.\n",
    "    return \"안녕! \" + name\n",
    "\n",
    "with gr.Blocks() as demo:  # gr.Blocks()를 사용하여 인터페이스를 생성합니다.\n",
    "    name = gr.Textbox(label=\"이름\")  # '이름'이라는 레이블을 가진 입력 텍스트박스를 생성합니다.\n",
    "    output = gr.Textbox(label=\"출력창\")  # '출력창'이라는 레이블을 가진 출력 텍스트박스를 생성합니다.\n",
    "    greet_btn = gr.Button(\"인사\")  # '인사'라는 레이블을 가진 버튼을 생성합니다.\n",
    "    greet_btn.click(fn=greet, inputs=name, outputs=output, api_name=\"greet\")  # 버튼 클릭 시 greet 함수가 실행되도록 합니다.\n",
    "\n",
    "demo.launch()  # 인터페이스를 실행합니다. 이제 사용자는 이름을 입력하고 '인사' 버튼을 클릭하면 \"안녕! \" + 입력한 이름 이라는 메시지가 출력창에 표시됩니다."
   ]
  },
  {
   "cell_type": "markdown",
   "metadata": {
    "id": "Xc3KfPU0u82j"
   },
   "source": [
    "* 그라디오 라이브러리를 이용하여 간단한 채팅봇을 구현합니다. \n",
    "* *사용자의 메시지를 입력받고, 미리 정의된 응답 중 하나를 무작위로 선택하여 사용자에게 반환하는 간단한 로직이 적용되어 있습니다. \n",
    "    * 또한, 이전 메시지와 봇의 응답을 기록하고, '초기화' 버튼을 누르면 채팅 기록을 초기화하는 기능도 포함되어 있습니다."
   ]
  },
  {
   "cell_type": "code",
   "execution_count": null,
   "metadata": {
    "colab": {
     "base_uri": "https://localhost:8080/",
     "height": 687
    },
    "executionInfo": {
     "elapsed": 1708,
     "status": "ok",
     "timestamp": 1738987840269,
     "user": {
      "displayName": "Myung Sook Baek",
      "userId": "06392624545902733911"
     },
     "user_tz": -540
    },
    "id": "0GfRnzOtwGNa",
    "outputId": "56ab8089-b005-4abf-cfac-4941cdc18416"
   },
   "outputs": [],
   "source": [
    "import gradio as gr  # 그라디오 라이브러리를 불러옵니다.\n",
    "import random  # 무작위 선택을 위한 라이브러리를 불러옵니다.\n",
    "import time  # 시간 지연을 위한 라이브러리를 불러옵니다.\n",
    "\n",
    "def respond(message, chat_history):  # 채팅봇의 응답을 처리하는 함수를 정의합니다.\n",
    "    bot_message = random.choice([\"어떻게 지내세요?\", \"좋아해요\", \"배고파요\"])  # 미리 정의된 응답 중 하나를 무작위로 선택합니다.\n",
    "    chat_history.append((message, bot_message))  # 채팅 기록에 사용자의 메시지와 봇의 응답을 추가합니다.\n",
    "    time.sleep(1)  # 응답 간의 시간 지연을 생성합니다. 이는 봇이 실시간으로 답변하고 있는 것처럼 보이게 합니다.\n",
    "    return \"\", chat_history  # 수정된 채팅 기록을 반환합니다.\n",
    "\n",
    "with gr.Blocks() as demo:  # gr.Blocks()를 사용하여 인터페이스를 생성합니다.\n",
    "    chatbot = gr.Chatbot(label=\"채팅창\")  # '채팅창'이라는 레이블을 가진 채팅봇 컴포넌트를 생성합니다.\n",
    "    msg = gr.Textbox(label=\"입력\")  # '입력'이라는 레이블을 가진 텍스트박스를 생성합니다.\n",
    "    clear = gr.Button(\"초기화\")  # '초기화'라는 레이블을 가진 버튼을 생성합니다.\n",
    "\n",
    "    msg.submit(respond, [msg, chatbot], [msg, chatbot])  # 텍스트박스에 메시지를 입력하고 제출하면 respond 함수가 호출되도록 합니다.\n",
    "    clear.click(lambda: None, None, chatbot, queue=False)  # '초기화' 버튼을 클릭하면 채팅 기록을 초기화합니다.\n",
    "\n",
    "demo.launch()  # 인터페이스를 실행합니다. 실행하면 사용자는 '입력' 텍스트박스에 메시지를 작성하고 제출할 수 있으며, '초기화' 버튼을 통해 채팅 기록을 초기화 할 수 있습니다."
   ]
  },
  {
   "cell_type": "markdown",
   "metadata": {
    "id": "3aCByxslwBIK"
   },
   "source": []
  }
 ],
 "metadata": {
  "colab": {
   "authorship_tag": "ABX9TyNhShsZeoEowoP00c16YMGh",
   "provenance": []
  },
  "kernelspec": {
   "display_name": "base",
   "language": "python",
   "name": "python3"
  },
  "language_info": {
   "codemirror_mode": {
    "name": "ipython",
    "version": 3
   },
   "file_extension": ".py",
   "mimetype": "text/x-python",
   "name": "python",
   "nbconvert_exporter": "python",
   "pygments_lexer": "ipython3",
   "version": "3.12.4"
  }
 },
 "nbformat": 4,
 "nbformat_minor": 0
}
