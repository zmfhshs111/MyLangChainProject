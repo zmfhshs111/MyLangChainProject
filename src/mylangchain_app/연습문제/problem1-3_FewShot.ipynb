{
 "cells": [
  {
   "cell_type": "markdown",
   "metadata": {},
   "source": [
    "### 문제 1-3: 뉴스 키워드 추출기 (ChatPromptTemplate + FewShotPromptTemplate)\n",
    "\n",
    "## 환경 설정"
   ]
  },
  {
   "cell_type": "code",
   "execution_count": null,
   "metadata": {},
   "outputs": [],
   "source": [
    "# 필요한 라이브러리 설치\n",
    "#%pip install -q langchain langchain-openai python-dotenv"
   ]
  },
  {
   "cell_type": "code",
   "execution_count": 1,
   "metadata": {},
   "outputs": [
    {
     "data": {
      "text/plain": [
       "True"
      ]
     },
     "execution_count": 1,
     "metadata": {},
     "output_type": "execute_result"
    }
   ],
   "source": [
    "# 환경 변수 설정\n",
    "from dotenv import load_dotenv\n",
    "import os\n",
    "\n",
    "# .env 파일에서 API 키 로드\n",
    "load_dotenv()"
   ]
  },
  {
   "cell_type": "code",
   "execution_count": 2,
   "metadata": {},
   "outputs": [],
   "source": [
    "# 필요한 라이브러리 import\n",
    "from langchain_core.prompts import (\n",
    "    FewShotChatMessagePromptTemplate, \n",
    "    ChatPromptTemplate\n",
    ")\n",
    "from langchain_openai import ChatOpenAI\n",
    "from langchain_core.output_parsers import StrOutputParser"
   ]
  },
  {
   "cell_type": "markdown",
   "metadata": {},
   "source": [
    "## 해답 구현\n",
    "\n",
    "### 1단계: 예시 데이터 준비"
   ]
  },
  {
   "cell_type": "code",
   "execution_count": 5,
   "metadata": {},
   "outputs": [],
   "source": [
    "# 뉴스 키워드 추출 예시 데이터\n",
    "examples = [\n",
    "    {\n",
    "        \"news\": \"삼성전자가 내년 초에 자체적으로 개발한 인공지능(AI) 가속기를 처음으로 출시할 예정이다. 이는 AI 반도체 시장에서 지배적인 위치를 차지하고 있는 엔비디아의 독점을 도전하고, 세계 최고의 반도체 제조업체로서의 지위를 다시 확립하려는 삼성전자의 노력으로 해석된다.\",\n",
    "        \"keywords\": \"삼성전자, 인공지능, 엔비디아\"\n",
    "    },\n",
    "    {\n",
    "        \"news\": \"세계보건기구(WHO)는 최근 새로운 건강 위기에 대응하기 위해 국제 협력의 중요성을 강조했다. 전염병 대응 역량의 강화와 글로벌 보건 시스템의 개선이 필요하다고 발표했다.\",\n",
    "        \"keywords\": \"세계보건기구, 건강위기, 국제협력\"\n",
    "    },\n",
    "    {\n",
    "        \"news\": \"테슬라의 일론 머스크 CEO가 트위터를 인수한 후 대대적인 조직 개편을 단행했다. 직원 수를 대폭 줄이고 새로운 수익 모델을 도입하여 플랫폼의 지속가능성을 확보하려는 시도로 보인다.\",\n",
    "        \"keywords\": \"테슬라, 일론머스크, 트위터\"\n",
    "    },\n",
    "    {\n",
    "        \"news\": \"한국은행이 기준금리를 동결하기로 결정했다고 발표했다. 인플레이션 압력과 경제 성장률 둔화 사이에서 신중한 통화정책을 유지하겠다는 의지를 나타낸 것으로 분석된다.\",\n",
    "        \"keywords\": \"한국은행, 기준금리, 인플레이션\"\n",
    "    }\n",
    "]"
   ]
  },
  {
   "cell_type": "markdown",
   "metadata": {},
   "source": [
    "### 2단계: ChatPromptTemplate을 사용한 예시 프롬프트 생성"
   ]
  },
  {
   "cell_type": "code",
   "execution_count": 6,
   "metadata": {},
   "outputs": [],
   "source": [
    "# 대화형 예시 프롬프트 템플릿\n",
    "example_prompt = ChatPromptTemplate.from_messages([\n",
    "    (\"human\", \"{news}\"),\n",
    "    (\"ai\", \"키워드: {keywords}\")\n",
    "])"
   ]
  },
  {
   "cell_type": "markdown",
   "metadata": {},
   "source": [
    "### 3단계: FewShotChatMessagePromptTemplate 구성"
   ]
  },
  {
   "cell_type": "code",
   "execution_count": 7,
   "metadata": {},
   "outputs": [],
   "source": [
    "# FewShotChatMessagePromptTemplate 생성\n",
    "few_shot_prompt = FewShotChatMessagePromptTemplate(\n",
    "    example_prompt=example_prompt,\n",
    "    examples=examples\n",
    ")"
   ]
  },
  {
   "cell_type": "markdown",
   "metadata": {},
   "source": [
    "### 4단계: 최종 ChatPromptTemplate 구성"
   ]
  },
  {
   "cell_type": "code",
   "execution_count": 8,
   "metadata": {},
   "outputs": [],
   "source": [
    "# 최종 ChatPromptTemplate\n",
    "final_prompt = ChatPromptTemplate.from_messages([\n",
    "    (\"system\", \"\"\"당신은 뉴스 키워드 추출 전문가입니다.\n",
    "    \n",
    "작업 지침:\n",
    "1. 주어진 뉴스에서 가장 중요한 핵심 키워드 3개를 추출하세요\n",
    "2. 고유명사(인명, 기업명, 기관명)를 우선적으로 고려하세요\n",
    "3. 핵심 개념이나 기술 용어도 포함하세요\n",
    "4. 결과는 반드시 \"키워드: A, B, C\" 형식으로 제시하세요\n",
    "5. 키워드는 쉼표와 공백으로 구분하세요\n",
    "\n",
    "다음 예시들을 참고하여 동일한 형식으로 답변하세요:\"\"\"),\n",
    "    few_shot_prompt,\n",
    "    (\"human\", \"{input}\")\n",
    "])"
   ]
  },
  {
   "cell_type": "markdown",
   "metadata": {},
   "source": [
    "### 5단계: 체인 구성 및 LLM 설정"
   ]
  },
  {
   "cell_type": "code",
   "execution_count": 9,
   "metadata": {},
   "outputs": [],
   "source": [
    "# LLM 모델 초기화\n",
    "llm = ChatOpenAI(\n",
    "    #api_key=OPENAI_API_KEY,\n",
    "    base_url=\"https://api.groq.com/openai/v1\",  # Groq API 엔드포인트\n",
    "    model=\"meta-llama/llama-4-scout-17b-16e-instruct\",\n",
    "    temperature=0.7\n",
    ")\n",
    "\n",
    "# 출력 파서\n",
    "output_parser = StrOutputParser()\n",
    "\n",
    "# 체인 구성 (LCEL 사용)\n",
    "chain = final_prompt | llm | output_parser"
   ]
  },
  {
   "cell_type": "markdown",
   "metadata": {},
   "source": [
    "### 6단계: 테스트 실행"
   ]
  },
  {
   "cell_type": "code",
   "execution_count": 10,
   "metadata": {},
   "outputs": [
    {
     "name": "stdout",
     "output_type": "stream",
     "text": [
      "뉴스 키워드 추출기 테스트 (ChatPromptTemplate 버전)\n",
      "=======================================================\n",
      "\n",
      "테스트 뉴스:\n",
      "\n",
      "제미나이 2.0 플래시는 현재 구글 AI 스튜디오(Google AI Studio) 및 버텍스 AI(Vertex AI)에서 제미나이 API를 통해 개발자에게 실험 모델로 제공됩니다. \n",
      "모든 개발자는 멀티모달 입력 및 텍스트 출력을 사용할 수 있으며, 텍스트 음성 변환(text-to-speech) 및 네이티브 이미지 생성은 일부 파트너들을 대상으로 제공됩니다. \n",
      "내년 1월에는 더 많은 모델 사이즈와 함께 일반에 공개될 예정입니다.\n",
      "\n",
      "\n",
      "추출된 키워드:\n",
      "키워드: 구글, 제미나이, API\n"
     ]
    }
   ],
   "source": [
    "# 주어진 테스트 뉴스로 실행\n",
    "test_news = \"\"\"\n",
    "제미나이 2.0 플래시는 현재 구글 AI 스튜디오(Google AI Studio) 및 버텍스 AI(Vertex AI)에서 제미나이 API를 통해 개발자에게 실험 모델로 제공됩니다. \n",
    "모든 개발자는 멀티모달 입력 및 텍스트 출력을 사용할 수 있으며, 텍스트 음성 변환(text-to-speech) 및 네이티브 이미지 생성은 일부 파트너들을 대상으로 제공됩니다. \n",
    "내년 1월에는 더 많은 모델 사이즈와 함께 일반에 공개될 예정입니다.\n",
    "\"\"\"\n",
    "\n",
    "result = chain.invoke({\"input\": test_news})\n",
    "\n",
    "print(\"뉴스 키워드 추출기 테스트 (ChatPromptTemplate 버전)\")\n",
    "print(\"=======================================================\")\n",
    "print(\"\\n테스트 뉴스:\")\n",
    "print(test_news)\n",
    "print(\"\\n추출된 키워드:\")\n",
    "print(result)"
   ]
  },
  {
   "cell_type": "markdown",
   "metadata": {},
   "source": [
    "### 7단계: 추가 테스트 케이스"
   ]
  },
  {
   "cell_type": "code",
   "execution_count": 11,
   "metadata": {},
   "outputs": [
    {
     "name": "stdout",
     "output_type": "stream",
     "text": [
      "추가 테스트 케이스들\n",
      "===================\n",
      "\n",
      "테스트 1 - 스포츠 뉴스:\n",
      "뉴스: 손흥민이 토트넘에서 프리미어리그 역대 아시아 선수 최다 득점 기록을 경신했다. 이로써 한국 축구의 위상이 한층 더 높아졌다는 평가를 받고 있다.\n",
      "결과: 키워드: 손흥민, 토트넘, 프리미어리그\n",
      "\n",
      "---\n",
      "\n",
      "테스트 2 - 경제 뉴스:\n",
      "뉴스: 비트코인 가격이 급등하면서 암호화폐 시장 전체가 활기를 띠고 있다. 투자자들의 관심이 다시 높아지고 있는 상황이다.\n",
      "결과: 키워드: 비트코인, 암호화폐, 투자자\n",
      "\n",
      "---\n",
      "\n",
      "테스트 3 - 환경 뉴스:\n",
      "뉴스: 정부가 탄소중립 목표 달성을 위해 재생에너지 확대 정책을 발표했다. 태양광과 풍력 발전 비중을 크게 늘리겠다고 밝혔다.\n",
      "결과: 키워드: 탄소중립, 재생에너지, 태양광\n",
      "\n",
      "---\n",
      "\n",
      "테스트 4 - 기술 뉴스:\n",
      "뉴스: 애플이 차세대 아이폰에 새로운 AI 칩셋을 탑재할 예정이라고 발표했다. 이를 통해 온디바이스 AI 성능을 대폭 향상시킬 계획이다.\n",
      "결과: 키워드: 애플, 아이폰, AI칩셋\n",
      "\n",
      "---\n"
     ]
    }
   ],
   "source": [
    "# 다양한 분야의 추가 테스트\n",
    "additional_tests = [\n",
    "    {\n",
    "        \"category\": \"스포츠 뉴스\",\n",
    "        \"text\": \"손흥민이 토트넘에서 프리미어리그 역대 아시아 선수 최다 득점 기록을 경신했다. 이로써 한국 축구의 위상이 한층 더 높아졌다는 평가를 받고 있다.\"\n",
    "    },\n",
    "    {\n",
    "        \"category\": \"경제 뉴스\",\n",
    "        \"text\": \"비트코인 가격이 급등하면서 암호화폐 시장 전체가 활기를 띠고 있다. 투자자들의 관심이 다시 높아지고 있는 상황이다.\"\n",
    "    },\n",
    "    {\n",
    "        \"category\": \"환경 뉴스\",\n",
    "        \"text\": \"정부가 탄소중립 목표 달성을 위해 재생에너지 확대 정책을 발표했다. 태양광과 풍력 발전 비중을 크게 늘리겠다고 밝혔다.\"\n",
    "    },\n",
    "    {\n",
    "        \"category\": \"기술 뉴스\",\n",
    "        \"text\": \"애플이 차세대 아이폰에 새로운 AI 칩셋을 탑재할 예정이라고 발표했다. 이를 통해 온디바이스 AI 성능을 대폭 향상시킬 계획이다.\"\n",
    "    }\n",
    "]\n",
    "\n",
    "print(\"추가 테스트 케이스들\")\n",
    "print(\"===================\")\n",
    "\n",
    "for i, test in enumerate(additional_tests, 1):\n",
    "    result = chain.invoke({\"input\": test[\"text\"]})\n",
    "    print(f\"\\n테스트 {i} - {test['category']}:\")\n",
    "    print(f\"뉴스: {test['text']}\")\n",
    "    print(f\"결과: {result}\")\n",
    "    print(\"\\n---\")"
   ]
  },
  {
   "cell_type": "markdown",
   "metadata": {},
   "source": [
    "### 8단계: 생성된 프롬프트 구조 확인"
   ]
  },
  {
   "cell_type": "code",
   "execution_count": 10,
   "metadata": {},
   "outputs": [
    {
     "name": "stdout",
     "output_type": "stream",
     "text": [
      "생성된 프롬프트 구조 확인\n",
      "==========================\n",
      "\n",
      "프롬프트 메시지 수: 10개\n",
      "\n",
      "메시지 구조:\n",
      "1. systemmessage: 당신은 뉴스 키워드 추출 전문가입니다.\n",
      "    \n",
      "작업 지침:\n",
      "1. 주어진 뉴스에서 가장 중...\n",
      "2. humanmessage: 삼성전자가 내년 초에 자체적으로 개발한 인공지능(AI) 가속기를 처음으로 출시할 예정이다....\n",
      "3. aimessage: 키워드: 삼성전자, 인공지능, 엔비디아\n",
      "4. humanmessage: 세계보건기구(WHO)는 최근 새로운 건강 위기에 대응하기 위해 국제 협력의 중요성을 강조했...\n",
      "5. aimessage: 키워드: 세계보건기구, 건강위기, 국제협력\n",
      "6. humanmessage: 테슬라의 일론 머스크 CEO가 트위터를 인수한 후 대대적인 조직 개편을 단행했다. 직원 수...\n",
      "7. aimessage: 키워드: 테슬라, 일론머스크, 트위터\n",
      "8. humanmessage: 한국은행이 기준금리를 동결하기로 결정했다고 발표했다. 인플레이션 압력과 경제 성장률 둔화 ...\n",
      "9. aimessage: 키워드: 한국은행, 기준금리, 인플레이션\n",
      "10. humanmessage: 테스트 뉴스\n"
     ]
    }
   ],
   "source": [
    "# 실제 생성되는 프롬프트 구조 확인\n",
    "sample_messages = final_prompt.format_messages(input=\"테스트 뉴스\")\n",
    "\n",
    "print(\"생성된 프롬프트 구조 확인\")\n",
    "print(\"==========================\")\n",
    "print(f\"\\n프롬프트 메시지 수: {len(sample_messages)}개\")\n",
    "print(\"\\n메시지 구조:\")\n",
    "for i, message in enumerate(sample_messages, 1):\n",
    "    content_preview = message.content[:50] + \"...\" if len(message.content) > 50 else message.content\n",
    "    print(f\"{i}. {message.__class__.__name__.lower()}: {content_preview}\")"
   ]
  },
  {
   "cell_type": "markdown",
   "metadata": {},
   "source": [
    "### 9단계: 성능 비교 및 분석"
   ]
  },
  {
   "cell_type": "code",
   "execution_count": 12,
   "metadata": {},
   "outputs": [
    {
     "name": "stdout",
     "output_type": "stream",
     "text": [
      "성능 분석 결과\n",
      "==============\n",
      "\n",
      "총 테스트: 5개\n",
      "성공적인 키워드 추출: 5개 (100.0%)\n",
      "평균 키워드 개수: 3.0개\n",
      "\n",
      "키워드 유형 분석:\n",
      "- 고유명사 (기업/인명): 60.0%\n",
      "- 기술/개념 용어: 120.0%\n",
      "- 지역/기관명: 0.0%\n",
      "\n",
      "모든 테스트가 요구사항에 맞게 성공적으로 완료되었습니다!\n"
     ]
    }
   ],
   "source": [
    "# 성능 분석\n",
    "all_tests = [test_news] + [test[\"text\"] for test in additional_tests]\n",
    "results = []\n",
    "\n",
    "for news in all_tests:\n",
    "    result = chain.invoke({\"input\": news})\n",
    "    # \"키워드: \" 부분 제거하고 키워드만 추출\n",
    "    keywords_only = result.replace(\"키워드: \", \"\").split(\", \")\n",
    "    results.append(keywords_only)\n",
    "\n",
    "# 통계 계산\n",
    "total_tests = len(results)\n",
    "successful_extractions = sum(1 for r in results if len(r) == 3)\n",
    "avg_keywords = sum(len(r) for r in results) / len(results)\n",
    "\n",
    "# 키워드 유형 분석 (간단한 휴리스틱)\n",
    "proper_nouns = 0\n",
    "tech_terms = 0\n",
    "locations = 0\n",
    "\n",
    "tech_keywords = [\"AI\", \"인공지능\", \"암호화폐\", \"비트코인\", \"재생에너지\", \"탄소중립\", \"칩셋\"]\n",
    "location_keywords = [\"WHO\", \"정부\", \"한국은행\", \"세계보건기구\"]\n",
    "\n",
    "for result in results:\n",
    "    for keyword in result:\n",
    "        if any(name in keyword for name in [\"삼성\", \"테슬라\", \"손흥민\", \"애플\", \"구글\", \"일론\"]):\n",
    "            proper_nouns += 1\n",
    "        if any(tech in keyword for tech in tech_keywords):\n",
    "            tech_terms += 1\n",
    "        if any(loc in keyword for loc in location_keywords):\n",
    "            locations += 1\n",
    "\n",
    "total_keywords = sum(len(r) for r in results)\n",
    "\n",
    "print(\"성능 분석 결과\")\n",
    "print(\"==============\")\n",
    "print(f\"\\n총 테스트: {total_tests}개\")\n",
    "print(f\"성공적인 키워드 추출: {successful_extractions}개 ({(successful_extractions/total_tests)*100:.1f}%)\")\n",
    "print(f\"평균 키워드 개수: {avg_keywords:.1f}개\")\n",
    "print(\"\\n키워드 유형 분석:\")\n",
    "print(f\"- 고유명사 (기업/인명): {(proper_nouns/total_tests)*100:.1f}%\")\n",
    "print(f\"- 기술/개념 용어: {(tech_terms/total_tests)*100:.1f}%\")\n",
    "print(f\"- 지역/기관명: {(locations/total_tests)*100:.1f}%\")\n",
    "print(\"\\n모든 테스트가 요구사항에 맞게 성공적으로 완료되었습니다!\")"
   ]
  }
 ],
 "metadata": {
  "kernelspec": {
   "display_name": "langchain-basic-kGdHTiMZ-py3.12",
   "language": "python",
   "name": "python3"
  },
  "language_info": {
   "codemirror_mode": {
    "name": "ipython",
    "version": 3
   },
   "file_extension": ".py",
   "mimetype": "text/x-python",
   "name": "python",
   "nbconvert_exporter": "python",
   "pygments_lexer": "ipython3",
   "version": "3.12.7"
  }
 },
 "nbformat": 4,
 "nbformat_minor": 4
}
