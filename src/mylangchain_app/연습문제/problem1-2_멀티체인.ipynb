{
 "cells": [
  {
   "cell_type": "markdown",
   "metadata": {},
   "source": [
    "### 문제 1-2: 2단계 체인 만들기 - 영화 추천 시스템 해답"
   ]
  },
  {
   "cell_type": "markdown",
   "metadata": {},
   "source": [
    "## 환경 설정"
   ]
  },
  {
   "cell_type": "code",
   "execution_count": null,
   "metadata": {},
   "outputs": [],
   "source": [
    "# 필요한 라이브러리 설치\n",
    "#%pip install -q langchain langchain-openai python-dotenv"
   ]
  },
  {
   "cell_type": "code",
   "execution_count": 1,
   "metadata": {},
   "outputs": [
    {
     "data": {
      "text/plain": [
       "True"
      ]
     },
     "execution_count": 1,
     "metadata": {},
     "output_type": "execute_result"
    }
   ],
   "source": [
    "# 환경 변수 설정\n",
    "from dotenv import load_dotenv\n",
    "import os\n",
    "\n",
    "# .env 파일에서 API 키 로드\n",
    "load_dotenv()"
   ]
  },
  {
   "cell_type": "markdown",
   "metadata": {},
   "source": [
    "## 문제 2 해답 구현"
   ]
  },
  {
   "cell_type": "markdown",
   "metadata": {},
   "source": [
    "### 요구사항\n",
    "1. 1단계 체인: 장르를 입력받아 영화 1편 추천\n",
    "2. 2단계 체인: 추천받은 영화의 3줄 줄거리 요약 제공\n",
    "3. ChatPromptTemplate 사용\n",
    "4. 두 체인을 LCEL로 연결\n",
    "5. 각 단계의 결과를 모두 출력하여 과정 확인"
   ]
  },
  {
   "cell_type": "code",
   "execution_count": 1,
   "metadata": {},
   "outputs": [],
   "source": [
    "# 필요한 라이브러리 import\n",
    "from langchain_core.prompts import ChatPromptTemplate\n",
    "from langchain_openai import ChatOpenAI\n",
    "from langchain_core.output_parsers import StrOutputParser\n",
    "\n",
    "# 1단계: 장르별 영화 추천 프롬프트\n",
    "movie_recommendation_prompt = ChatPromptTemplate.from_messages([\n",
    "    (\"system\", \"당신은 영화 전문가입니다. 사용자가 요청한 장르에 맞는 영화 1편을 추천하고 간단한 설명을 제공해주세요.\"),\n",
    "    (\"user\", \"{genre} 장르의 한국영화 1편을 추천해주세요. 영화 제목과 왜 이 영화를 추천하는지 이유도 함께 알려주세요.\")\n",
    "])"
   ]
  },
  {
   "cell_type": "code",
   "execution_count": 2,
   "metadata": {},
   "outputs": [],
   "source": [
    "# 2단계: 영화 줄거리 요약 프롬프트\n",
    "plot_summary_prompt = ChatPromptTemplate.from_messages([\n",
    "    (\"system\", \"당신은 영화 줄거리 요약 전문가입니다. 영화의 핵심 내용을 3줄로 간결하게 요약해주세요.\"),\n",
    "    (\"user\", \"다음 영화 추천 내용을 바탕으로 해당 영화의 등장인물과 줄거리를 정확히 10줄로 요약해주세요: {movie}\")\n",
    "])"
   ]
  },
  {
   "cell_type": "code",
   "execution_count": 3,
   "metadata": {},
   "outputs": [
    {
     "name": "stdout",
     "output_type": "stream",
     "text": [
      " 추천된 영화: '올드보이' (2003)\n",
      "\n",
      "올드보이는 드라마 장르의 한국 영화로, 감독 박찬욱이 연출한 작품입니다. 이 영화는 2003년에 개봉되어 많은 사랑을 받았습니다. \n",
      "\n",
      "올드보이는 주인공 오대수(최민식)가 15년 동안 감금된 후 탈출하여 복수를 추구하는 내용을 다루고 있습니다. 이 영화는 감동적인 이야기, 뛰어난 연기력, 그리고 깊은 메시지로 많은 팬들을 사로잡았습니다.\n",
      "\n",
      "올드보이는 한국 영화의 대표작 중 하나로 꼽히며, 세계적으로도 인정받은 작품입니다. 이 영화는 드라마 장르의 팬들에게 꼭 추천하고 싶은 영화입니다.\n"
     ]
    }
   ],
   "source": [
    "# LLM 모델 초기화\n",
    "# llm = ChatOpenAI(model=\"gpt-3.5-turbo\", temperature=0.7)\n",
    "llm = ChatOpenAI(\n",
    "    #api_key=OPENAI_API_KEY,\n",
    "    base_url=\"https://api.groq.com/openai/v1\",  # Groq API 엔드포인트\n",
    "    model=\"meta-llama/llama-4-scout-17b-16e-instruct\",\n",
    "    temperature=0.7\n",
    ")\n",
    "\n",
    "# 1단계 체인: 영화 추천\n",
    "recommendation_chain = movie_recommendation_prompt | llm | StrOutputParser()\n",
    "# Step 1: 사용자가 입력한 장르에 따라 영화 추천\n",
    "movie = recommendation_chain.invoke({\"genre\": \"Drama\"})  # 영화 제목 얻기\n",
    "print(\" 추천된 영화:\", movie)  # movie 값 출력\n",
    "\n",
    "# 2단계 체인: 줄거리 요약 (1단계 결과를 입력으로 받음)\n",
    "plot_chain = (\n",
    "    {\"movie\": recommendation_chain}  # 1단계 체인의 결과를 movie로 전달\n",
    "    | plot_summary_prompt\n",
    "    | llm\n",
    "    | StrOutputParser()\n",
    ")"
   ]
  },
  {
   "cell_type": "code",
   "execution_count": 4,
   "metadata": {},
   "outputs": [
    {
     "name": "stdout",
     "output_type": "stream",
     "text": [
      "영화 추천 시스템\n",
      "==================\n",
      "\n",
      "입력 장르: Drama\n",
      "\n",
      "1단계 - 영화 추천 결과:\n",
      "**영화:** \"올드보이\" (2003)\n",
      "\n",
      "**추천 이유:** \"올드보이\"는 한국 영화계의 대표작 중 하나로, 김지운 감독이 연출한 드라마/스릴러 영화입니다. 이 영화는 주인공 오대수(최민식)가 15년 동안 감금된 후 풀려나면서 시작되는 이야기를 다루고 있습니다. 오대수는 자신의 과거와 감금된 이유를 찾기 위해 노력하며, 그 과정에서 많은 반전과 충격을 주는 스토리로 구성되어 있습니다.\n",
      "\n",
      "이 영화는 뛰어난 연기력과 긴장감 있는 전개, 그리고 사회 비판적인 메시지를 전달하는 점에서 높이 평가받고 있습니다. 또한, \"올드보이\"는 한국 영화의 국제적인 위상을 높인 작품 중 하나로, 칸 영화제에서 심사위원 대상을 수상하기도 했습니다.\n",
      "\n",
      "따라서, 드라마 장르의 한국 영화를 찾고 있다면 \"올드보이\"는 강력히 추천할 만한 영화입니다.\n",
      "\n",
      "---\n",
      "\n",
      "2단계 - 영화 줄거리 요약:\n",
      "올드보이는 2003년에 개봉한 한국 드라마 영화입니다. \n",
      "\n",
      "주인공 오대수는 15년간 아무런 이유 없이 감금된 채로 살아갑니다. \n",
      "\n",
      "오대수는 자신의 과거와 감금의 이유를 모른 채로 고통스러운 시간을 보냅니다. \n",
      "\n",
      "그러던 중, 오대수는 감금된 방을 탈출하고, 자신의 과거와 감금의 진실을 찾기 시작합니다. \n",
      "\n",
      "그는 자신의 감금과 관련이 있는 미스터리한 여성을 만나면서 복수를 준비합니다. \n",
      "\n",
      "오대수는 자신의 감금과 복수의 진실을 밝히기 위해 노력합니다. \n",
      "\n",
      "그는 과거의 상처와 고통을 극복하고, 진실을 찾기 위해 노력합니다. \n",
      "\n",
      "오대수의 이야기는 복수와 용서의 주제로 깊은 감동을 전달합니다. \n",
      "\n",
      "올드보이는 배우들의 연기력과 뛰어난 각본, 감독의 연출력이 돋보이는 작품입니다. \n",
      "\n",
      "올드보이는 한국 영화계에서 큰 인기를 얻었고, 해외에서도 많은 관심을 받았습니다.\n"
     ]
    }
   ],
   "source": [
    "# 테스트 실행\n",
    "try:\n",
    "    genre = \"Drama\"\n",
    "    \n",
    "    print(\"영화 추천 시스템\")\n",
    "    print(\"==================\")\n",
    "    print(f\"\\n입력 장르: {genre}\")\n",
    "    \n",
    "    # 1단계 실행 및 결과 출력\n",
    "    movie_recommendation = recommendation_chain.invoke({\"genre\": genre})\n",
    "    print(\"\\n1단계 - 영화 추천 결과:\")\n",
    "    print(movie_recommendation)\n",
    "    \n",
    "    print(\"\\n---\\n\")\n",
    "    \n",
    "    # 2단계 실행 및 결과 출력\n",
    "    plot_summary = plot_chain.invoke({\"genre\": genre})\n",
    "    print(\"2단계 - 영화 줄거리 요약:\")\n",
    "    print(plot_summary)\n",
    "    \n",
    "except Exception as e:\n",
    "    print(f\"오류 발생: {e}\")"
   ]
  },
  {
   "cell_type": "markdown",
   "metadata": {},
   "source": [
    "## 추가 테스트"
   ]
  },
  {
   "cell_type": "code",
   "execution_count": 5,
   "metadata": {},
   "outputs": [
    {
     "name": "stdout",
     "output_type": "stream",
     "text": [
      "다른 장르로 테스트 - 로맨스:\n",
      "===============================\n",
      "\n",
      "영화 추천:\n",
      "**'건축학개론'**\n",
      "\n",
      "'건축학개론'은 2012년에 개봉한 한국 영화로, 로맨스 장르에 속합니다. 이 영화는 대학생 시절 첫사랑을 뒤늦게 다시 만나게 되면서 일어나는 감동적인 이야기를 다루고 있습니다. 영화는 두 주인공이 겪는 우연한 재회와 과거의 추억, 그리고 현재의 감정을 섬세하게 표현하여 많은 관객들에게 사랑을 받았습니다. 특히, 감독의 세심한 연출과 배우들의 연기가 돋보이며, 한국 영화의 대표작 중 하나로 꼽힙니다. 로맨틱한 이야기와 감동적인 연기를 원한다면 '건축학개론'을 추천합니다.\n",
      "\n",
      "줄거리 요약:\n",
      "Here is a 10-line summary of the movie \"어바웃 타임\":\n",
      "\n",
      "*   주인공 '태희'는 시간여행을 통해 과거로 돌아가 자신의 현재를 바꾸려고 합니다.\n",
      "*   그는 과거로 돌아가면서도 자신의 현재를 바꿀 수 없다는 것을 깨닫습니다.\n",
      "*   태희는 결국 자신의 사랑을 찾기 위해 시간여행을 계속합니다.\n",
      "*   영화는 로맨틱한 분위기와 감동적인 결말로 많은 사랑을 받았습니다.\n",
      "*   태희는 과거에서 자신의 첫사랑 '수진'을 만나게 됩니다.\n",
      "*   태희와 수진은 서로에 대한 사랑을 느끼지만, 태희는 미래에서 온 사람이라는 이유로 수진과 멀어지게 됩니다.\n",
      "*   태희는 수진과의 사랑을 찾기 위해 계속해서 시간여행을 합니다.\n",
      "*   영화는 태희와 수진의 사랑 이야기로 인해 많은 관객에게 감동과 설렘을 선사합니다.\n",
      "*   태희는 시간여행을 하면서도 자신의 현재와 과거를 되돌아보게 됩니다.\n",
      "*   결국, 태희는 수진과의 사랑을 찾고, 영화는 감동적인 결말로 마무리됩니다.\n"
     ]
    }
   ],
   "source": [
    "# 다른 장르로 추가 테스트\n",
    "genre2 = \"로맨스\"\n",
    "\n",
    "movie_recommendation2 = recommendation_chain.invoke({\"genre\": genre2})\n",
    "plot_summary2 = plot_chain.invoke({\"genre\": genre2})\n",
    "\n",
    "print(f\"다른 장르로 테스트 - {genre2}:\")\n",
    "print(\"===============================\")\n",
    "print(\"\\n영화 추천:\")\n",
    "print(movie_recommendation2)\n",
    "print(\"\\n줄거리 요약:\")\n",
    "print(plot_summary2)"
   ]
  },
  {
   "cell_type": "markdown",
   "metadata": {},
   "source": [
    "## 체인 연결 패턴 설명"
   ]
  },
  {
   "cell_type": "code",
   "execution_count": null,
   "metadata": {},
   "outputs": [
    {
     "name": "stdout",
     "output_type": "stream",
     "text": [
      "체인 연결 방식 설명:\n",
      "====================\n",
      "\n",
      "1단계 체인:\n",
      "movie_recommendation_prompt | llm | StrOutputParser()\n",
      "\n",
      "2단계 체인:\n",
      "{\"movie_info\": recommendation_chain} | plot_summary_prompt | llm | StrOutputParser()\n",
      "\n",
      "핵심 포인트:\n",
      "- 1단계 체인의 출력이 2단계 체인의 입력으로 자동 전달\n",
      "- movie_info 키를 통해 데이터 흐름 제어\n",
      "- LCEL을 통해 직관적인 파이프라인 구성\n"
     ]
    }
   ],
   "source": [
    "# 체인 연결 방식 설명\n",
    "print(\"체인 연결 방식 설명:\")\n",
    "print(\"====================\")\n",
    "print()\n",
    "print(\"1단계 체인:\")\n",
    "print(\"movie_recommendation_prompt | llm | StrOutputParser()\")\n",
    "print()\n",
    "print(\"2단계 체인:\")\n",
    "print('{\"movie\": recommendation_chain} | plot_summary_prompt | llm | StrOutputParser()')\n",
    "print()\n",
    "print(\"핵심 포인트:\")\n",
    "print(\"- 1단계 체인의 출력이 2단계 체인의 입력으로 자동 전달\")\n",
    "print(\"- movie 키를 통해 데이터 흐름 제어\")\n",
    "print(\"- LCEL을 통해 직관적인 파이프라인 구성\")"
   ]
  },
  {
   "cell_type": "markdown",
   "metadata": {},
   "source": [
    "## 학습 정리"
   ]
  },
  {
   "cell_type": "markdown",
   "metadata": {},
   "source": [
    "### 문제 2에서 배운 핵심 개념\n",
    "1. **ChatPromptTemplate**: 시스템과 사용자 메시지 구조화\n",
    "2. **다단계 체인**: 여러 단계로 나누어 복잡한 작업 처리\n",
    "3. **체인 간 데이터 전달**: {\"key\": previous_chain} 패턴\n",
    "4. **단계별 결과 확인**: 각 체인의 중간 결과 출력\n",
    "\n",
    "### 구현 완료 사항\n",
    "- ✅ 2단계 체인 구현\n",
    "- ✅ ChatPromptTemplate 사용\n",
    "- ✅ 체인 간 데이터 전달\n",
    "- ✅ 영화 추천 기능\n",
    "- ✅ 줄거리 요약 기능\n",
    "- ✅ 각 단계별 결과 출력\n",
    "- ✅ 다양한 장르 테스트\n",
    "\n",
    "### 체인 연결의 핵심 패턴\n",
    "```python\n",
    "# 기본 패턴\n",
    "chain1 = prompt1 | llm | parser\n",
    "chain2 = {\"input_key\": chain1} | prompt2 | llm | parser\n",
    "```\n",
    "\n",
    "이 패턴을 통해 복잡한 작업을 단계별로 분해하여 처리할 수 있습니다."
   ]
  }
 ],
 "metadata": {
  "kernelspec": {
   "display_name": "langchain-basic-kGdHTiMZ-py3.12",
   "language": "python",
   "name": "python3"
  },
  "language_info": {
   "codemirror_mode": {
    "name": "ipython",
    "version": 3
   },
   "file_extension": ".py",
   "mimetype": "text/x-python",
   "name": "python",
   "nbconvert_exporter": "python",
   "pygments_lexer": "ipython3",
   "version": "3.12.7"
  }
 },
 "nbformat": 4,
 "nbformat_minor": 4
}
